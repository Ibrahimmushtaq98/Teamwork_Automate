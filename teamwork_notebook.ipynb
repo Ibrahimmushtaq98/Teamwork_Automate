{
 "cells": [
  {
   "cell_type": "markdown",
   "metadata": {},
   "source": [
    "This notebook is mainly to test out teamwork api, its nothing permanent"
   ]
  },
  {
   "cell_type": "code",
   "execution_count": 4,
   "metadata": {},
   "outputs": [],
   "source": [
    "import teamwork_client\n",
    "import json\n",
    "import datetime\n",
    "from dotenv import load_dotenv\n",
    "import os"
   ]
  },
  {
   "cell_type": "code",
   "execution_count": 36,
   "metadata": {},
   "outputs": [],
   "source": [
    "def print_response(response):\n",
    "    if 200 <= response.status_code < 300:\n",
    "        try:\n",
    "            formatted_json = json.dumps(response.json(), indent=4)\n",
    "            print(formatted_json)\n",
    "        except ValueError:\n",
    "            print(\"Response content is not in JSON format.\")\n",
    "    else:\n",
    "        print(f\"Failed to retrieve data: {response.status_code} - {response.text}\")"
   ]
  },
  {
   "cell_type": "code",
   "execution_count": 14,
   "metadata": {},
   "outputs": [],
   "source": [
    "def format_datetime(time_str):\n",
    "    today = datetime.datetime.now().date()\n",
    "    # Parse the time\n",
    "    time = datetime.datetime.strptime(time_str, '%H:%M:%S').time()\n",
    "    # Combine date and time\n",
    "    datetime_obj = datetime.datetime.combine(today, time)\n",
    "    # Format as ISO 8601 with 'Z' (indicative of UTC)\n",
    "    return datetime_obj.strftime('%Y-%m-%dT%H:%M:%S')"
   ]
  },
  {
   "cell_type": "code",
   "execution_count": 3,
   "metadata": {},
   "outputs": [
    {
     "data": {
      "text/plain": [
       "True"
      ]
     },
     "execution_count": 3,
     "metadata": {},
     "output_type": "execute_result"
    }
   ],
   "source": [
    "load_dotenv()"
   ]
  },
  {
   "cell_type": "code",
   "execution_count": 5,
   "metadata": {},
   "outputs": [],
   "source": [
    "apiToken = os.getenv('TEAMWORK_API')\n",
    "baseUrl = os.getenv('TEAMWORK_BASEURL')"
   ]
  },
  {
   "cell_type": "code",
   "execution_count": 4,
   "metadata": {},
   "outputs": [],
   "source": [
    "PROJECT_NAME = 'Resonant Solutions'\n",
    "TASK = \"Labourly\"\n",
    "SUBTASK = \"Coding\""
   ]
  },
  {
   "cell_type": "code",
   "execution_count": 5,
   "metadata": {},
   "outputs": [],
   "source": [
    "client = teamwork_client.TeamworkClient(baseUrl, apiToken)"
   ]
  },
  {
   "cell_type": "code",
   "execution_count": 6,
   "metadata": {},
   "outputs": [],
   "source": [
    "query_param ={\n",
    "    'searchTerm' : PROJECT_NAME\n",
    "}\n",
    "response_project = client.get_projects(query_param)"
   ]
  },
  {
   "cell_type": "code",
   "execution_count": 7,
   "metadata": {},
   "outputs": [
    {
     "name": "stdout",
     "output_type": "stream",
     "text": [
      "Project ID for 'Resonant Solutions': 865864\n"
     ]
    }
   ],
   "source": [
    "if(response_project.status_code != 200):\n",
    "    raise SystemExit(\"Exiting due to unsuccessful response. Failed to retrieve data: {response_project.status_code} - {response_project.text}\")\n",
    "\n",
    "\n",
    "project_data = response_project.json().get('projects', [])\n",
    "projectId = None\n",
    "\n",
    "for project in project_data:\n",
    "    if(project['name'] == PROJECT_NAME):\n",
    "        projectId = project['id']\n",
    "\n",
    "if(projectId):\n",
    "    print(f\"Project ID for '{PROJECT_NAME}': {projectId}\")\n",
    "else:\n",
    "    print(f\"Project with name '{PROJECT_NAME}' not found.\")"
   ]
  },
  {
   "cell_type": "code",
   "execution_count": 8,
   "metadata": {},
   "outputs": [],
   "source": [
    "response_task_list = client.get_tasks_list(projectId=projectId)\n"
   ]
  },
  {
   "cell_type": "code",
   "execution_count": 9,
   "metadata": {},
   "outputs": [
    {
     "name": "stdout",
     "output_type": "stream",
     "text": [
      "Task List ID for 'Labourly': 2877254\n"
     ]
    }
   ],
   "source": [
    "if(response_task_list.status_code != 200):\n",
    "    raise SystemExit(\"Exiting due to unsuccessful response. Failed to retrieve data: {response_task_list.status_code} - {response_task_list.text}\")\n",
    "\n",
    "\n",
    "task_list_data = response_task_list.json().get('tasklists', [])\n",
    "taskListId = None\n",
    "\n",
    "for task in task_list_data:\n",
    "    if(task['name'] == TASK):\n",
    "        taskListId = task['id']\n",
    "        break\n",
    "\n",
    "if(taskListId):\n",
    "    print(f\"Task List ID for '{TASK}': {taskListId}\")\n",
    "else:\n",
    "    print(f\"Task List with name '{TASK}' not found.\")"
   ]
  },
  {
   "cell_type": "code",
   "execution_count": 10,
   "metadata": {},
   "outputs": [],
   "source": [
    "response_task = client.get_tasks_from_tasks_list(taskListId,None)\n"
   ]
  },
  {
   "cell_type": "code",
   "execution_count": 11,
   "metadata": {},
   "outputs": [
    {
     "name": "stdout",
     "output_type": "stream",
     "text": [
      "Task List ID for 'Coding': 33098642\n"
     ]
    }
   ],
   "source": [
    "if(response_task.status_code != 200):\n",
    "    raise SystemExit(\"Exiting due to unsuccessful response. Failed to retrieve data: {response_task.status_code} - {response_task.text}\")\n",
    "\n",
    "\n",
    "tasks_data = response_task.json().get('tasks', [])\n",
    "taskId = None\n",
    "\n",
    "for task in tasks_data:\n",
    "    if(task['name'] == SUBTASK):\n",
    "        taskId = task['id']\n",
    "        break\n",
    "\n",
    "if(taskId):\n",
    "    print(f\"Task List ID for '{SUBTASK}': {taskId}\")\n",
    "else:\n",
    "    print(f\"Task List with name '{SUBTASK}' not found.\")"
   ]
  },
  {
   "cell_type": "code",
   "execution_count": 33,
   "metadata": {},
   "outputs": [],
   "source": [
    "timePayload = {\n",
    "    \"timelog\": {\n",
    "        \"description\": \"This is a test\",\n",
    "        \"hours\": 7,\n",
    "        \"isBillable\": False,\n",
    "        \"isUtc\": True,\n",
    "        \"minutes\": 0,\n",
    "        \"projectId\": projectId,\n",
    "        \"taskId\": taskId,\n",
    "        \"date\": datetime.datetime.now().strftime('%Y-%m-%d'),\n",
    "        \"time\": \"14:00:00\"\n",
    "    }\n",
    "}\n"
   ]
  },
  {
   "cell_type": "code",
   "execution_count": null,
   "metadata": {},
   "outputs": [],
   "source": [
    "respone_time_entries = client.post_time_entry_from_task(taskId, timePayload)\n",
    "print_response(respone_time_entries)"
   ]
  }
 ],
 "metadata": {
  "kernelspec": {
   "display_name": "Python 3",
   "language": "python",
   "name": "python3"
  },
  "language_info": {
   "codemirror_mode": {
    "name": "ipython",
    "version": 3
   },
   "file_extension": ".py",
   "mimetype": "text/x-python",
   "name": "python",
   "nbconvert_exporter": "python",
   "pygments_lexer": "ipython3",
   "version": "3.11.5"
  }
 },
 "nbformat": 4,
 "nbformat_minor": 2
}

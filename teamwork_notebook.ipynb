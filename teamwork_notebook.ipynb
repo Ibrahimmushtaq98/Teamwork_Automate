{
 "cells": [
  {
   "cell_type": "markdown",
   "metadata": {},
   "source": [
    "This notebook is mainly to test out teamwork api, its nothing permanent"
   ]
  },
  {
   "cell_type": "code",
   "execution_count": null,
   "metadata": {},
   "outputs": [],
   "source": [
    "import teamwork_client\n",
    "import json\n",
    "import datetime\n",
    "from datetime import timedelta\n",
    "from zoneinfo import ZoneInfo\n",
    "from dotenv import load_dotenv\n",
    "import os"
   ]
  },
  {
   "cell_type": "code",
   "execution_count": null,
   "metadata": {},
   "outputs": [],
   "source": [
    "def print_response(response):\n",
    "    if 200 <= response.status_code < 300:\n",
    "        try:\n",
    "            formatted_json = json.dumps(response.json(), indent=4)\n",
    "            print(formatted_json)\n",
    "        except ValueError:\n",
    "            print(\"Response content is not in JSON format.\")\n",
    "    else:\n",
    "        print(f\"Failed to retrieve data: {response.status_code} - {response.text}\")"
   ]
  },
  {
   "cell_type": "code",
   "execution_count": null,
   "metadata": {},
   "outputs": [],
   "source": [
    "def format_datetime(time_str):\n",
    "    today = datetime.datetime.now().date()\n",
    "    time = datetime.datetime.strptime(time_str, '%H:%M:%S').time()\n",
    "    datetime_obj = datetime.datetime.combine(today, time)\n",
    "    return datetime_obj.strftime('%Y-%m-%dT%H:%M:%S')"
   ]
  },
  {
   "cell_type": "code",
   "execution_count": null,
   "metadata": {},
   "outputs": [],
   "source": [
    "def est_to_utc(date_str, time_str):\n",
    "    est_tz = ZoneInfo(\"America/New_York\")\n",
    "    today = datetime.datetime.now().date()\n",
    "    est_time = datetime.datetime.strptime(f\"{date_str} {time_str}\", '%Y-%m-%d %I:%M%p').replace(tzinfo=est_tz)\n",
    "    utc_time = est_time.astimezone(ZoneInfo('UTC'))\n",
    "    return utc_time.strftime('%Y-%m-%d'), utc_time.strftime('%H:%M:%S')"
   ]
  },
  {
   "cell_type": "code",
   "execution_count": null,
   "metadata": {},
   "outputs": [],
   "source": [
    "#100% GPT\n",
    "def get_workweek_dates(start_date_str):\n",
    "    start_date = datetime.datetime.strptime(start_date_str, '%Y-%m-%d')\n",
    "    days_to_monday = (start_date.weekday() - 0) % 7\n",
    "    monday = start_date - timedelta(days=days_to_monday)\n",
    "    return [monday + timedelta(days=i) for i in range(5)]"
   ]
  },
  {
   "cell_type": "code",
   "execution_count": null,
   "metadata": {},
   "outputs": [],
   "source": [
    "load_dotenv()"
   ]
  },
  {
   "cell_type": "code",
   "execution_count": null,
   "metadata": {},
   "outputs": [],
   "source": [
    "apiToken = os.getenv('TEAMWORK_API')\n",
    "baseUrl = os.getenv('TEAMWORK_BASEURL')"
   ]
  },
  {
   "cell_type": "code",
   "execution_count": null,
   "metadata": {},
   "outputs": [],
   "source": [
    "PROJECT_NAME = 'Resonant Solutions'\n",
    "TASK_LISTS = {\n",
    "    \"Labourly\": [\"Coding\", \"Meetings\"],\n",
    "    \"Admin (RS Core)\": [\"Meetings & Communications\"]\n",
    "}"
   ]
  },
  {
   "cell_type": "code",
   "execution_count": null,
   "metadata": {},
   "outputs": [],
   "source": [
    "client = teamwork_client.TeamworkClient(baseUrl, apiToken)"
   ]
  },
  {
   "cell_type": "code",
   "execution_count": null,
   "metadata": {},
   "outputs": [],
   "source": [
    "query_param ={\n",
    "    'searchTerm' : PROJECT_NAME\n",
    "}\n",
    "response_project = client.get_projects(query_param)"
   ]
  },
  {
   "cell_type": "code",
   "execution_count": null,
   "metadata": {},
   "outputs": [],
   "source": [
    "if(response_project.status_code != 200):\n",
    "    raise SystemExit(\"Exiting due to unsuccessful response. Failed to retrieve data: {response_project.status_code} - {response_project.text}\")\n",
    "\n",
    "\n",
    "project_data = response_project.json().get('projects', [])\n",
    "projectId = None\n",
    "\n",
    "for project in project_data:\n",
    "    if(project['name'] == PROJECT_NAME):\n",
    "        projectId = project['id']\n",
    "\n",
    "if(projectId):\n",
    "    print(f\"Project ID for '{PROJECT_NAME}': {projectId}\")\n",
    "else:\n",
    "    print(f\"Project with name '{PROJECT_NAME}' not found.\")"
   ]
  },
  {
   "cell_type": "code",
   "execution_count": null,
   "metadata": {},
   "outputs": [],
   "source": [
    "response_task_list = client.get_tasks_list(projectId=projectId)"
   ]
  },
  {
   "cell_type": "code",
   "execution_count": null,
   "metadata": {},
   "outputs": [],
   "source": [
    "if(response_task_list.status_code != 200):\n",
    "    raise SystemExit(\"Exiting due to unsuccessful response. Failed to retrieve data: {response_task_list.status_code} - {response_task_list.text}\")\n",
    "\n",
    "\n",
    "task_list_data = response_task_list.json().get('tasklists', [])\n",
    "task_list_map = {}\n",
    "\n",
    "for task_list in task_list_data:\n",
    "    if task_list['name'] in TASK_LISTS:\n",
    "        task_list_map[task_list['name']] = task_list['id']"
   ]
  },
  {
   "cell_type": "code",
   "execution_count": null,
   "metadata": {},
   "outputs": [],
   "source": [
    "task_map = {}\n",
    "\n",
    "for task_list_name, task_list_id in task_list_map.items():\n",
    "    response_task = client.get_tasks_from_tasks_list(task_list_id, None)\n",
    "    \n",
    "    if response_task.status_code != 200:\n",
    "        raise SystemExit(f\"Exiting due to unsuccessful response for {task_list_name}. Failed to retrieve data: {response_task.status_code} - {response_task.text}\")\n",
    "    \n",
    "    tasks_data = response_task.json().get('tasks', [])\n",
    "    for task in tasks_data:\n",
    "        if task['name'] in TASK_LISTS[task_list_name]:\n",
    "            task_map[task['name']] = task['id']\n",
    "\n",
    "if task_map:\n",
    "    print(\"Task ID mappings found:\")\n",
    "    for task_name, task_id in task_map.items():\n",
    "        print(f\"'{task_name}': {task_id}\")\n",
    "else:\n",
    "    print(\"No matching tasks found.\")\n"
   ]
  },
  {
   "cell_type": "code",
   "execution_count": null,
   "metadata": {},
   "outputs": [],
   "source": [
    "required_tasks = [\"Coding\", \"Meetings\", \"Meetings & Communications\"]\n",
    "if all(task in task_map for task in required_tasks):\n",
    "    workweek_start = \"2025-03-31\"\n",
    "    workweek_dates = get_workweek_dates(workweek_start)\n",
    "    \n",
    "    time_entries = [\n",
    "        {\n",
    "            \"task_name\": \"Coding\",\n",
    "            \"hours\": 7,\n",
    "            \"minutes\": 0,\n",
    "            \"start_time_est\": \"10:00AM\",\n",
    "            \"description\": \"Daily coding work\"\n",
    "        },\n",
    "        {\n",
    "            \"task_name\": \"Meetings\",\n",
    "            \"hours\": 0,\n",
    "            \"minutes\": 30,\n",
    "            \"start_time_est\": \"9:30AM\",\n",
    "            \"description\": \"Daily team meeting\"\n",
    "        },\n",
    "        {\n",
    "            \"task_name\": \"Meetings & Communications\",\n",
    "            \"hours\": 0,\n",
    "            \"minutes\": 30,\n",
    "            \"start_time_est\": \"9:00AM\",\n",
    "            \"description\": \"Daily communication sync\"\n",
    "        }\n",
    "    ]\n",
    "\n",
    "    for work_date in workweek_dates:\n",
    "        date_str = work_date.strftime('%Y-%m-%d')\n",
    "        print(f\"\\nProcessing time entries for {date_str}\")\n",
    "        \n",
    "        for entry in time_entries:\n",
    "            task_id = task_map[entry[\"task_name\"]]\n",
    "            utc_date, utc_time = est_to_utc(date_str, entry[\"start_time_est\"])\n",
    "            \n",
    "            time_payload = {\n",
    "                \"timelog\": {\n",
    "                    \"description\": entry[\"description\"],\n",
    "                    \"hours\": entry[\"hours\"],\n",
    "                    \"isBillable\": False,\n",
    "                    \"isUtc\": True,\n",
    "                    \"minutes\": entry[\"minutes\"],\n",
    "                    \"projectId\": projectId,\n",
    "                    \"taskId\": task_id,\n",
    "                    \"date\": utc_date,\n",
    "                    \"time\": utc_time\n",
    "                }\n",
    "            }\n",
    "            \n",
    "            response_time_entries = client.post_time_entry_from_task(task_id, time_payload)\n",
    "            print(f\"Time entry for {entry['task_name']} on {utc_date}:\")\n",
    "            #print_response(response_time_entries)\n",
    "else:\n",
    "    missing = [task for task in required_tasks if task not in task_map]\n",
    "    print(f\"Cannot create time entries. Missing task IDs: {missing}\")"
   ]
  }
 ],
 "metadata": {
  "kernelspec": {
   "display_name": "Python 3",
   "language": "python",
   "name": "python3"
  },
  "language_info": {
   "codemirror_mode": {
    "name": "ipython",
    "version": 3
   },
   "file_extension": ".py",
   "mimetype": "text/x-python",
   "name": "python",
   "nbconvert_exporter": "python",
   "pygments_lexer": "ipython3",
   "version": "3.11.5"
  }
 },
 "nbformat": 4,
 "nbformat_minor": 2
}
